{
 "cells": [
  {
   "cell_type": "code",
   "execution_count": 5,
   "id": "3e6a9cbe",
   "metadata": {},
   "outputs": [],
   "source": [
    "import numpy as np\n",
    "import pandas as pd\n",
    "import matplotlib.pyplot as plt\n",
    "import seaborn as sns\n",
    "import scipy.stats as st"
   ]
  },
  {
   "cell_type": "markdown",
   "id": "aab8dcc7",
   "metadata": {},
   "source": [
    "# z test\n"
   ]
  },
  {
   "cell_type": "code",
   "execution_count": 9,
   "id": "b88cda19",
   "metadata": {},
   "outputs": [],
   "source": [
    "s_x = 90\n",
    "p_x  = 82\n",
    "p_std = 20\n",
    "n  = 81\n",
    "alpha = 0.05"
   ]
  },
  {
   "cell_type": "code",
   "execution_count": 8,
   "id": "e50865b4",
   "metadata": {},
   "outputs": [
    {
     "data": {
      "text/plain": [
       "np.float64(3.5999999999999996)"
      ]
     },
     "execution_count": 8,
     "metadata": {},
     "output_type": "execute_result"
    }
   ],
   "source": [
    "z_cal = (s_x - p_x) / (p_std / np.sqrt(n))\n",
    "z_cal"
   ]
  },
  {
   "cell_type": "code",
   "execution_count": 11,
   "id": "5e76e454",
   "metadata": {},
   "outputs": [
    {
     "data": {
      "text/plain": [
       "np.float64(1.6448536269514722)"
      ]
     },
     "execution_count": 11,
     "metadata": {},
     "output_type": "execute_result"
    }
   ],
   "source": [
    "z_table = st.norm.ppf(1 - alpha)\n",
    "z_table"
   ]
  },
  {
   "cell_type": "code",
   "execution_count": 13,
   "id": "711c429a",
   "metadata": {},
   "outputs": [
    {
     "name": "stdout",
     "output_type": "stream",
     "text": [
      "ha is right\n"
     ]
    }
   ],
   "source": [
    "if z_cal > z_table: \n",
    "  print(\"ha is right\")\n",
    "else: \n",
    "  print(\"h0 is right\")"
   ]
  },
  {
   "cell_type": "markdown",
   "id": "4470c6ba",
   "metadata": {},
   "source": [
    "# t test"
   ]
  },
  {
   "cell_type": "code",
   "execution_count": 16,
   "id": "1f0d51c0",
   "metadata": {},
   "outputs": [
    {
     "data": {
      "text/plain": [
       "np.float64(2.024394163911969)"
      ]
     },
     "execution_count": 16,
     "metadata": {},
     "output_type": "execute_result"
    }
   ],
   "source": [
    "t_table = st.t.ppf(1 - 0.025, 38)\n",
    "t_table"
   ]
  },
  {
   "cell_type": "code",
   "execution_count": 17,
   "id": "87732ab1",
   "metadata": {},
   "outputs": [
    {
     "data": {
      "text/plain": [
       "np.float64(2.862991671569341)"
      ]
     },
     "execution_count": 17,
     "metadata": {},
     "output_type": "execute_result"
    }
   ],
   "source": [
    "p_x = 80\n",
    "s_x = 75\n",
    "n = 20\n",
    "alpah = 0.025\n",
    "\n",
    "t_cal = (p_x - s_x) / (np.sqrt((25 / n) + (36 / n)))\n",
    "t_cal"
   ]
  },
  {
   "cell_type": "code",
   "execution_count": 20,
   "id": "7cd244b5",
   "metadata": {},
   "outputs": [
    {
     "name": "stdout",
     "output_type": "stream",
     "text": [
      "ha is true\n"
     ]
    }
   ],
   "source": [
    "if t_cal < t_table:\n",
    "  print(\"h0 is true\")\n",
    "else: \n",
    "  print(\"ha is true\")"
   ]
  },
  {
   "cell_type": "markdown",
   "id": "0e4b2043",
   "metadata": {},
   "source": [
    "# chi square test\n"
   ]
  },
  {
   "cell_type": "code",
   "execution_count": 21,
   "id": "705474e1",
   "metadata": {},
   "outputs": [],
   "source": [
    "ob = np.array([22, 17, 20, 26, 22, 13])\n",
    "ex = np.array([20, 20, 20, 20, 20, 20])"
   ]
  },
  {
   "cell_type": "code",
   "execution_count": 24,
   "id": "b41cb400",
   "metadata": {},
   "outputs": [],
   "source": [
    "data = np.sum(np.square(ob - ex) / ex)"
   ]
  },
  {
   "cell_type": "code",
   "execution_count": 25,
   "id": "00942404",
   "metadata": {},
   "outputs": [
    {
     "name": "stdout",
     "output_type": "stream",
     "text": [
      "ho is true\n"
     ]
    }
   ],
   "source": [
    "if data < 11.05:\n",
    "  print(\"ho is true\")\n",
    "else: \n",
    "  print(\"ha is false\")"
   ]
  },
  {
   "cell_type": "code",
   "execution_count": null,
   "id": "9362461a",
   "metadata": {},
   "outputs": [],
   "source": []
  }
 ],
 "metadata": {
  "kernelspec": {
   "display_name": "Python 3",
   "language": "python",
   "name": "python3"
  },
  "language_info": {
   "codemirror_mode": {
    "name": "ipython",
    "version": 3
   },
   "file_extension": ".py",
   "mimetype": "text/x-python",
   "name": "python",
   "nbconvert_exporter": "python",
   "pygments_lexer": "ipython3",
   "version": "3.13.3"
  }
 },
 "nbformat": 4,
 "nbformat_minor": 5
}

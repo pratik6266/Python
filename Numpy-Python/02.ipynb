{
 "cells": [
  {
   "cell_type": "code",
   "execution_count": 2,
   "id": "1cb13143",
   "metadata": {},
   "outputs": [],
   "source": [
    "import numpy as np"
   ]
  },
  {
   "cell_type": "code",
   "execution_count": 3,
   "id": "07a60d07",
   "metadata": {},
   "outputs": [
    {
     "name": "stdout",
     "output_type": "stream",
     "text": [
      "Base Array:  [ 1  2  3  4  5  6  7  8  9 10]\n",
      "Basic slicing:  [3 4 5 6 7]\n",
      "Negative Indexing:  8\n"
     ]
    }
   ],
   "source": [
    "arr = np.arange(1, 11, 1)\n",
    "print(\"Base Array: \", arr)\n",
    "print(\"Basic slicing: \", arr[2:7])  # can be done with step as well \n",
    "print(\"Negative Indexing: \", arr[-3]) # return third from last"
   ]
  },
  {
   "cell_type": "code",
   "execution_count": 8,
   "id": "eaf799da",
   "metadata": {},
   "outputs": [
    {
     "name": "stdout",
     "output_type": "stream",
     "text": [
      "Sepecific element:  9\n",
      "Entire row:  [4 5 6]\n",
      "Entire column:  [1 4 7]\n"
     ]
    }
   ],
   "source": [
    "arr2d = np.array([[1, 2, 3], [4, 5, 6], [7, 8, 9]])\n",
    "print(\"Sepecific element: \", arr2d[2][2])\n",
    "print(\"Entire row: \", arr2d[1, :])\n",
    "print(\"Entire column: \", arr2d[:, 0])"
   ]
  },
  {
   "cell_type": "code",
   "execution_count": 9,
   "id": "e9985d9a",
   "metadata": {},
   "outputs": [
    {
     "name": "stdout",
     "output_type": "stream",
     "text": [
      "sorted array:  [  3   3   4  25  26  43  73 476]\n"
     ]
    }
   ],
   "source": [
    "arr = np.array([3,25,43,26,3,73,476,4])\n",
    "print(\"sorted array: \", np.sort(arr))"
   ]
  },
  {
   "cell_type": "code",
   "execution_count": null,
   "id": "175d9d3a",
   "metadata": {},
   "outputs": [
    {
     "name": "stdout",
     "output_type": "stream",
     "text": [
      "Sorted 2d:  [[2 1]\n",
      " [4 4]\n",
      " [8 5]]\n"
     ]
    }
   ],
   "source": [
    "arr2d_unsorted = np.array([[2, 1], [4, 5], [8, 4]])\n",
    "print(\"Sorted 2d: \", np.sort(arr2d_unsorted, axis=0)) # axis = 1 sorts row wise and axis = 0 sorts column wise"
   ]
  },
  {
   "cell_type": "code",
   "execution_count": 21,
   "id": "e9fc4c71",
   "metadata": {},
   "outputs": [
    {
     "name": "stdout",
     "output_type": "stream",
     "text": [
      "[ 2  4  6  8 10]\n"
     ]
    }
   ],
   "source": [
    "arr = np.arange(1, 11)\n",
    "even = arr[arr % 2 == 0] # selects even number from the array\n",
    "print(even)"
   ]
  },
  {
   "cell_type": "code",
   "execution_count": null,
   "id": "32b5bb68",
   "metadata": {},
   "outputs": [
    {
     "name": "stdout",
     "output_type": "stream",
     "text": [
      "[ 6  7  8  9 10]\n"
     ]
    }
   ],
   "source": [
    "mask = arr > 5\n",
    "print(arr[mask]) # this is mask hold expression"
   ]
  },
  {
   "cell_type": "code",
   "execution_count": 26,
   "id": "772bd349",
   "metadata": {},
   "outputs": [
    {
     "name": "stdout",
     "output_type": "stream",
     "text": [
      "[2 4 6]\n",
      "[ 6  7  8  9 10]\n"
     ]
    }
   ],
   "source": [
    "indices = [1, 3, 5]\n",
    "print(arr[indices])\n",
    "\n",
    "where = np.where(arr > 5) #fancy way of indexing and filtering\n",
    "print(arr[where])"
   ]
  },
  {
   "cell_type": "code",
   "execution_count": 29,
   "id": "12bd761d",
   "metadata": {},
   "outputs": [
    {
     "name": "stdout",
     "output_type": "stream",
     "text": [
      "[1 2 3 4 5 6]\n",
      "Compalibility shape:  True\n"
     ]
    }
   ],
   "source": [
    "arr1 = np.array([1, 2, 3])\n",
    "arr2 = np.array([4, 5, 6])\n",
    "arr3 = np.concatenate((arr1, arr2))\n",
    "print(arr3)\n",
    "print(\"Compalibility shape: \", arr1.shape == arr2.shape)"
   ]
  },
  {
   "cell_type": "code",
   "execution_count": null,
   "id": "3e0f9e99",
   "metadata": {},
   "outputs": [
    {
     "name": "stdout",
     "output_type": "stream",
     "text": [
      "[[1 2 5]\n",
      " [3 4 6]]\n"
     ]
    }
   ],
   "source": [
    "org = np.array([[1, 2], [3, 4]])\n",
    "new = np.array([5, 6]) \n",
    "# print(np.vstack((org, new)))  # vstack adds a new row\n",
    "\n",
    "new = np.array([[5], [6]]) \n",
    "print(np.hstack((org, new)))  # hstack adds a new col"
   ]
  },
  {
   "cell_type": "code",
   "execution_count": 36,
   "id": "321dd1a8",
   "metadata": {},
   "outputs": [
    {
     "name": "stdout",
     "output_type": "stream",
     "text": [
      "[1 2 4 5 6]\n"
     ]
    }
   ],
   "source": [
    "arr = np.array([1, 2, 3, 4, 5, 6])\n",
    "delete = np.delete(arr, 2)\n",
    "print(delete)"
   ]
  },
  {
   "cell_type": "code",
   "execution_count": null,
   "id": "948c6877",
   "metadata": {},
   "outputs": [],
   "source": []
  }
 ],
 "metadata": {
  "kernelspec": {
   "display_name": ".venv",
   "language": "python",
   "name": "python3"
  },
  "language_info": {
   "codemirror_mode": {
    "name": "ipython",
    "version": 3
   },
   "file_extension": ".py",
   "mimetype": "text/x-python",
   "name": "python",
   "nbconvert_exporter": "python",
   "pygments_lexer": "ipython3",
   "version": "3.13.3"
  }
 },
 "nbformat": 4,
 "nbformat_minor": 5
}

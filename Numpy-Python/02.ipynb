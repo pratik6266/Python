{
 "cells": [
  {
   "cell_type": "code",
   "execution_count": 1,
   "id": "1cb13143",
   "metadata": {},
   "outputs": [],
   "source": [
    "import numpy as np"
   ]
  },
  {
   "cell_type": "code",
   "execution_count": 5,
   "id": "07a60d07",
   "metadata": {},
   "outputs": [
    {
     "name": "stdout",
     "output_type": "stream",
     "text": [
      "Base Array:  [ 1  2  3  4  5  6  7  8  9 10]\n",
      "Basic slicing:  [3 4 5 6 7]\n",
      "Negative Indexing:  8\n"
     ]
    }
   ],
   "source": [
    "arr = np.arange(1, 11, 1)\n",
    "print(\"Base Array: \", arr)\n",
    "print(\"Basic slicing: \", arr[2:7])  # can be done with step as well \n",
    "print(\"Negative Indexing: \", arr[-3]) # return third from last"
   ]
  },
  {
   "cell_type": "code",
   "execution_count": null,
   "id": "eaf799da",
   "metadata": {},
   "outputs": [],
   "source": []
  }
 ],
 "metadata": {
  "kernelspec": {
   "display_name": ".venv",
   "language": "python",
   "name": "python3"
  },
  "language_info": {
   "codemirror_mode": {
    "name": "ipython",
    "version": 3
   },
   "file_extension": ".py",
   "mimetype": "text/x-python",
   "name": "python",
   "nbconvert_exporter": "python",
   "pygments_lexer": "ipython3",
   "version": "3.13.3"
  }
 },
 "nbformat": 4,
 "nbformat_minor": 5
}

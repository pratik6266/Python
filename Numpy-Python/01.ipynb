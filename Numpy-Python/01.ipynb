{
 "cells": [
  {
   "cell_type": "code",
   "execution_count": 2,
   "id": "1eff430d",
   "metadata": {},
   "outputs": [],
   "source": [
    "import numpy as np"
   ]
  },
  {
   "cell_type": "code",
   "execution_count": 6,
   "id": "3d881e16",
   "metadata": {},
   "outputs": [
    {
     "name": "stdout",
     "output_type": "stream",
     "text": [
      "[1 2 3]\n",
      "[[1 2 3]\n",
      " [4 5 6]]\n"
     ]
    }
   ],
   "source": [
    "arr1D = np.array([1, 2, 3])\n",
    "print(arr1D)\n",
    "\n",
    "arr2D = np.array([[1, 2, 3], [4, 5, 6]])\n",
    "print(arr2D)"
   ]
  },
  {
   "cell_type": "code",
   "execution_count": null,
   "id": "9e4a258e",
   "metadata": {},
   "outputs": [
    {
     "name": "stdout",
     "output_type": "stream",
     "text": [
      "Multiplying python list:  [1, 2, 3, 1, 2, 3]\n",
      "Multipyling numpy array:  [2 4 6]\n"
     ]
    }
   ],
   "source": [
    "py_list = [1, 2, 3]\n",
    "print(\"Multiplying python list: \", py_list * 2)\n",
    "\n",
    "np_array = np.array([1, 2,3]);\n",
    "print(\"Multipyling numpy array: \", np_array * 2)"
   ]
  },
  {
   "cell_type": "code",
   "execution_count": 8,
   "id": "e31bccaf",
   "metadata": {},
   "outputs": [
    {
     "name": "stdout",
     "output_type": "stream",
     "text": [
      "Python list operation time 0.11687564849853516\n",
      "Numpy array operation time 0.006398916244506836\n"
     ]
    }
   ],
   "source": [
    "import time \n",
    "start = time.time()\n",
    "py_list = [i*2 for i in range(1000000)]\n",
    "print(\"Python list operation time\", (time.time() - start))\n",
    "\n",
    "start = time.time();\n",
    "np_array = np.arange(1000000) * 2\n",
    "print(\"Numpy array operation time\", (time.time() - start))"
   ]
  },
  {
   "cell_type": "code",
   "execution_count": 16,
   "id": "df86bf80",
   "metadata": {},
   "outputs": [
    {
     "name": "stdout",
     "output_type": "stream",
     "text": [
      "Zeros:\n",
      " [[0. 0. 0. 0.]\n",
      " [0. 0. 0. 0.]\n",
      " [0. 0. 0. 0.]]\n",
      "\n",
      "Ones:\n",
      " [[1. 1. 1. 1.]\n",
      " [1. 1. 1. 1.]\n",
      " [1. 1. 1. 1.]]\n",
      "\n",
      "Full:\n",
      " [[7 7 7 7]\n",
      " [7 7 7 7]\n",
      " [7 7 7 7]]\n",
      "\n",
      "Random:\n",
      " [[0.71017265 0.20200563 0.60259891 0.57309947 0.32829071]\n",
      " [0.03910796 0.18250211 0.62531575 0.7041098  0.64317494]\n",
      " [0.07656849 0.44343663 0.48079113 0.24405809 0.80271327]]\n",
      "\n",
      "Sequence:\n",
      " [ 0  2  4  6  8 10]\n"
     ]
    }
   ],
   "source": [
    "zeros = np.zeros((3, 4))\n",
    "print(\"Zeros:\\n\", zeros)\n",
    "\n",
    "ones = np.ones((3, 4))\n",
    "print(\"\\nOnes:\\n\", ones)\n",
    "\n",
    "full = np.full((3, 4), 7)\n",
    "print(\"\\nFull:\\n\", full)\n",
    "\n",
    "random = np.random.random((3, 5))\n",
    "print(\"\\nRandom:\\n\", random)\n",
    "\n",
    "sequence = np.arange(0, 11, 2)\n",
    "print(\"\\nSequence:\\n\", sequence)"
   ]
  },
  {
   "cell_type": "code",
   "execution_count": 20,
   "id": "d7e75ff8",
   "metadata": {},
   "outputs": [
    {
     "name": "stdout",
     "output_type": "stream",
     "text": [
      "\n",
      "Vector:\n",
      " [1 2 3]\n",
      "\n",
      "Matric:\n",
      " [[1 2 3]\n",
      " [4 5 6]\n",
      " [7 8 9]]\n",
      "\n",
      "Tensor:\n",
      " [[[ 1  2]\n",
      "  [ 3  4]]\n",
      "\n",
      " [[ 5  6]\n",
      "  [ 7  8]]\n",
      "\n",
      " [[ 9 10]\n",
      "  [11 12]]]\n"
     ]
    }
   ],
   "source": [
    "vector = np.array([1, 2, 3])\n",
    "print(\"\\nVector:\\n\", vector)\n",
    "\n",
    "matric = np.array([[1, 2, 3], [4, 5, 6], [7, 8, 9]])\n",
    "print(\"\\nMatric:\\n\", matric)\n",
    "\n",
    "tensor = np.array([[[1,2], [3, 4]], [[5, 6], [7, 8]], [[9, 10], [11, 12]]])\n",
    "print(\"\\nTensor:\\n\", tensor)"
   ]
  },
  {
   "cell_type": "code",
   "execution_count": 27,
   "id": "2b883e6c",
   "metadata": {},
   "outputs": [
    {
     "name": "stdout",
     "output_type": "stream",
     "text": [
      "Shape (2, 3)\n",
      "Dimension 2\n",
      "Size 6\n",
      "D Type:  int64\n"
     ]
    }
   ],
   "source": [
    "arr = np.array([[1, 2, 3], \n",
    "                [4, 5, 6]])\n",
    "print(\"Shape\", arr.shape)\n",
    "print(\"Dimension\", arr.ndim)\n",
    "print(\"Size\", arr.size)\n",
    "print(\"D Type: \", arr.dtype)"
   ]
  },
  {
   "cell_type": "code",
   "execution_count": 33,
   "id": "22b3d0bc",
   "metadata": {},
   "outputs": [
    {
     "name": "stdout",
     "output_type": "stream",
     "text": [
      "Original:  [ 0  1  2  3  4  5  6  7  8  9 10 11]\n",
      "Reshaped:  [[ 0  1  2  3]\n",
      " [ 4  5  6  7]\n",
      " [ 8  9 10 11]]\n",
      "Flatten:  [ 0  1  2  3  4  5  6  7  8  9 10 11]\n",
      "Transpose:  [[ 0  4  8]\n",
      " [ 1  5  9]\n",
      " [ 2  6 10]\n",
      " [ 3  7 11]]\n"
     ]
    }
   ],
   "source": [
    "arr = np.arange(12)\n",
    "print(\"Original: \", arr)\n",
    "\n",
    "reshaped = arr.reshape((3, 4))\n",
    "print(\"Reshaped: \", reshaped)\n",
    "\n",
    "flattended = reshaped.flatten()\n",
    "print(\"Flatten: \", flattended)\n",
    "\n",
    "transposed = reshaped.transpose()\n",
    "print(\"Transpose: \", transposed)"
   ]
  }
 ],
 "metadata": {
  "kernelspec": {
   "display_name": ".venv",
   "language": "python",
   "name": "python3"
  },
  "language_info": {
   "codemirror_mode": {
    "name": "ipython",
    "version": 3
   },
   "file_extension": ".py",
   "mimetype": "text/x-python",
   "name": "python",
   "nbconvert_exporter": "python",
   "pygments_lexer": "ipython3",
   "version": "3.13.3"
  }
 },
 "nbformat": 4,
 "nbformat_minor": 5
}
